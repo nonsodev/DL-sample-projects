{
 "cells": [
  {
   "cell_type": "code",
   "execution_count": 1,
   "id": "18039839",
   "metadata": {},
   "outputs": [],
   "source": [
    "import tensorflow as tf\n",
    "from tensorflow import keras\n",
    "import pandas as pd\n",
    "import numpy as np\n",
    "\n",
    "from sklearn.preprocessing import LabelEncoder"
   ]
  },
  {
   "cell_type": "code",
   "execution_count": 2,
   "id": "8abf1250",
   "metadata": {},
   "outputs": [],
   "source": [
    "original_zoo = pd.read_csv(\"./data/zoo2.csv\")\n",
    "san_paulo_zoo = pd.read_csv(\"./data/zoo3.csv\")\n"
   ]
  },
  {
   "cell_type": "code",
   "execution_count": 9,
   "id": "19410359",
   "metadata": {},
   "outputs": [
    {
     "name": "stdout",
     "output_type": "stream",
     "text": [
      "<class 'pandas.core.frame.DataFrame'>\n",
      "RangeIndex: 43 entries, 0 to 42\n",
      "Data columns (total 17 columns):\n",
      " #   Column      Non-Null Count  Dtype\n",
      "---  ------      --------------  -----\n",
      " 0   hair        43 non-null     int64\n",
      " 1   feathers    43 non-null     int64\n",
      " 2   eggs        43 non-null     int64\n",
      " 3   milk        43 non-null     int64\n",
      " 4   airborne    43 non-null     int64\n",
      " 5   aquatic     43 non-null     int64\n",
      " 6   predator    43 non-null     int64\n",
      " 7   toothed     43 non-null     int64\n",
      " 8   backbone    43 non-null     int64\n",
      " 9   breathes    43 non-null     int64\n",
      " 10  venomous    43 non-null     int64\n",
      " 11  fins        43 non-null     int64\n",
      " 12  legs        43 non-null     int64\n",
      " 13  tail        43 non-null     int64\n",
      " 14  domestic    43 non-null     int64\n",
      " 15  catsize     43 non-null     int64\n",
      " 16  class_type  43 non-null     int64\n",
      "dtypes: int64(17)\n",
      "memory usage: 5.8 KB\n"
     ]
    }
   ],
   "source": [
    "original_zoo.select_dtypes(exclude=[\"object\"]).info()"
   ]
  },
  {
   "cell_type": "code",
   "execution_count": null,
   "id": "84aa8c50",
   "metadata": {},
   "outputs": [],
   "source": []
  },
  {
   "cell_type": "code",
   "execution_count": null,
   "id": "81f93bff",
   "metadata": {},
   "outputs": [],
   "source": []
  }
 ],
 "metadata": {
  "kernelspec": {
   "display_name": "DL",
   "language": "python",
   "name": "python3"
  },
  "language_info": {
   "codemirror_mode": {
    "name": "ipython",
    "version": 3
   },
   "file_extension": ".py",
   "mimetype": "text/x-python",
   "name": "python",
   "nbconvert_exporter": "python",
   "pygments_lexer": "ipython3",
   "version": "3.11.11"
  }
 },
 "nbformat": 4,
 "nbformat_minor": 5
}
